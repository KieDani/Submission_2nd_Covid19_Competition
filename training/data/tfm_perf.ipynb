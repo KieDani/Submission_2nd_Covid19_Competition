{
 "cells": [
  {
   "cell_type": "markdown",
   "metadata": {},
   "source": [
    "# Transforms Performance Profiling"
   ]
  },
  {
   "cell_type": "code",
   "execution_count": 5,
   "metadata": {},
   "outputs": [],
   "source": [
    "import pandas as pd\n",
    "import sys\n",
    "sys.path.append(\"..\")"
   ]
  },
  {
   "cell_type": "code",
   "execution_count": 6,
   "metadata": {},
   "outputs": [],
   "source": [
    "from data.data_api import profile_transforms\n",
    "from config.config import BaseConfig\n",
    "from config.dataconfig import get_dataset"
   ]
  },
  {
   "cell_type": "code",
   "execution_count": 7,
   "metadata": {},
   "outputs": [],
   "source": [
    "cfg=BaseConfig()\n",
    "dataset = get_dataset(cfg.dataconfigs[\"train\"])"
   ]
  },
  {
   "cell_type": "code",
   "execution_count": 8,
   "metadata": {},
   "outputs": [
    {
     "data": {
      "text/html": [
       "<div>\n",
       "<style scoped>\n",
       "    .dataframe tbody tr th:only-of-type {\n",
       "        vertical-align: middle;\n",
       "    }\n",
       "\n",
       "    .dataframe tbody tr th {\n",
       "        vertical-align: top;\n",
       "    }\n",
       "\n",
       "    .dataframe thead th {\n",
       "        text-align: right;\n",
       "    }\n",
       "</style>\n",
       "<table border=\"1\" class=\"dataframe\">\n",
       "  <thead>\n",
       "    <tr style=\"text-align: right;\">\n",
       "      <th></th>\n",
       "      <th>tfm</th>\n",
       "      <th>time</th>\n",
       "      <th>full</th>\n",
       "    </tr>\n",
       "  </thead>\n",
       "  <tbody>\n",
       "    <tr>\n",
       "      <th>0</th>\n",
       "      <td>FileCache</td>\n",
       "      <td>0.070771</td>\n",
       "      <td>FileCache(transforms=[LoadMha(metadata=True), ...</td>\n",
       "    </tr>\n",
       "    <tr>\n",
       "      <th>1</th>\n",
       "      <td>Zoom</td>\n",
       "      <td>4.030162</td>\n",
       "      <td>Zoom(new_shape=(200, 224, 224))</td>\n",
       "    </tr>\n",
       "    <tr>\n",
       "      <th>2</th>\n",
       "      <td>Rand</td>\n",
       "      <td>0.000007</td>\n",
       "      <td>Rand(prob=0.5, transform=AxialFlip(axis=0))</td>\n",
       "    </tr>\n",
       "    <tr>\n",
       "      <th>3</th>\n",
       "      <td>Rotate</td>\n",
       "      <td>1.124364</td>\n",
       "      <td>Rotate(degrees_range=(-30, 30))</td>\n",
       "    </tr>\n",
       "    <tr>\n",
       "      <th>4</th>\n",
       "      <td>Rand</td>\n",
       "      <td>0.254940</td>\n",
       "      <td>Rand(prob=0.2, transform=GaussianFilter(sigma_...</td>\n",
       "    </tr>\n",
       "    <tr>\n",
       "      <th>5</th>\n",
       "      <td>Rand</td>\n",
       "      <td>0.000016</td>\n",
       "      <td>Rand(prob=0.1, transform=AddNoise(mean_range=(...</td>\n",
       "    </tr>\n",
       "    <tr>\n",
       "      <th>6</th>\n",
       "      <td>Clip</td>\n",
       "      <td>0.014761</td>\n",
       "      <td>Clip(lower=0.0, upper=1.0)</td>\n",
       "    </tr>\n",
       "    <tr>\n",
       "      <th>7</th>\n",
       "      <td>Unsqueeze</td>\n",
       "      <td>0.000113</td>\n",
       "      <td>Unsqueeze(axis=0)</td>\n",
       "    </tr>\n",
       "    <tr>\n",
       "      <th>8</th>\n",
       "      <td>EncodeSex</td>\n",
       "      <td>0.023887</td>\n",
       "      <td>EncodeSex(num_classes=3)</td>\n",
       "    </tr>\n",
       "    <tr>\n",
       "      <th>9</th>\n",
       "      <td>DivideAge</td>\n",
       "      <td>0.000036</td>\n",
       "      <td>DivideAge(max_age=85)</td>\n",
       "    </tr>\n",
       "    <tr>\n",
       "      <th>10</th>\n",
       "      <td>Select</td>\n",
       "      <td>0.000013</td>\n",
       "      <td>Select(img, age, sex, inf, sev)</td>\n",
       "    </tr>\n",
       "  </tbody>\n",
       "</table>\n",
       "</div>"
      ],
      "text/plain": [
       "          tfm      time                                               full\n",
       "0   FileCache  0.070771  FileCache(transforms=[LoadMha(metadata=True), ...\n",
       "1        Zoom  4.030162                    Zoom(new_shape=(200, 224, 224))\n",
       "2        Rand  0.000007        Rand(prob=0.5, transform=AxialFlip(axis=0))\n",
       "3      Rotate  1.124364                    Rotate(degrees_range=(-30, 30))\n",
       "4        Rand  0.254940  Rand(prob=0.2, transform=GaussianFilter(sigma_...\n",
       "5        Rand  0.000016  Rand(prob=0.1, transform=AddNoise(mean_range=(...\n",
       "6        Clip  0.014761                         Clip(lower=0.0, upper=1.0)\n",
       "7   Unsqueeze  0.000113                                  Unsqueeze(axis=0)\n",
       "8   EncodeSex  0.023887                           EncodeSex(num_classes=3)\n",
       "9   DivideAge  0.000036                              DivideAge(max_age=85)\n",
       "10     Select  0.000013                    Select(img, age, sex, inf, sev)"
      ]
     },
     "execution_count": 8,
     "metadata": {},
     "output_type": "execute_result"
    }
   ],
   "source": [
    "measurements = profile_transforms(dataset.static_tfms + dataset.rnd_tfms, dataset.input[0])\n",
    "m2 = [dict(tfm=type(c).__name__, time=t, full=str(c)) for c, t in measurements]\n",
    "pd.DataFrame(m2)"
   ]
  }
 ],
 "metadata": {
  "interpreter": {
   "hash": "5bf57f6eadce36d05930f77e01ab1d093b1664a4aa8554265395a94754efa83a"
  },
  "kernelspec": {
   "display_name": "Python 3.9.7 ('stoic')",
   "language": "python",
   "name": "python3"
  },
  "language_info": {
   "codemirror_mode": {
    "name": "ipython",
    "version": 3
   },
   "file_extension": ".py",
   "mimetype": "text/x-python",
   "name": "python",
   "nbconvert_exporter": "python",
   "pygments_lexer": "ipython3",
   "version": "3.9.7"
  },
  "orig_nbformat": 4
 },
 "nbformat": 4,
 "nbformat_minor": 2
}
